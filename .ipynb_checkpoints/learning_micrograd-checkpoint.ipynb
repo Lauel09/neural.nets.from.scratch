{
 "cells": [
  {
   "cell_type": "code",
   "execution_count": 2,
   "id": "8f96ff91-ab56-47a1-a0fa-991c110c9edf",
   "metadata": {},
   "outputs": [],
   "source": [
    "import math\n",
    "import numpy as np\n",
    "import matplotlib.pyplot as plt\n",
    "%matplotlib inline"
   ]
  },
  {
   "cell_type": "code",
   "execution_count": null,
   "id": "ec96f84a-0ee6-497d-a7c1-ce38e5c421c7",
   "metadata": {},
   "outputs": [],
   "source": [
    "def f(x):"
   ]
  }
 ],
 "metadata": {
  "kernelspec": {
   "display_name": "Python 3 (ipykernel)",
   "language": "python",
   "name": "python3"
  },
  "language_info": {
   "codemirror_mode": {
    "name": "ipython",
    "version": 3
   },
   "file_extension": ".py",
   "mimetype": "text/x-python",
   "name": "python",
   "nbconvert_exporter": "python",
   "pygments_lexer": "ipython3",
   "version": "3.12.4"
  }
 },
 "nbformat": 4,
 "nbformat_minor": 5
}
